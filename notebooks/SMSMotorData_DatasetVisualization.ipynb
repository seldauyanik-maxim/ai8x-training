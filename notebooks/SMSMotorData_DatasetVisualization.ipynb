{
 "cells": [
  {
   "cell_type": "code",
   "execution_count": 1,
   "metadata": {},
   "outputs": [],
   "source": [
    "###################################################################################################\n",
    "#\n",
    "# Copyright (C) 2023 Maxim Integrated Products, Inc. All Rights Reserved.\n",
    "#\n",
    "# Maxim Integrated Products, Inc. Default Copyright Notice:\n",
    "# https://www.maximintegrated.com/en/aboutus/legal/copyrights.html\n",
    "#\n",
    "###################################################################################################\n",
    "\n",
    "import os\n",
    "import pandas as pd\n",
    "import sys\n",
    "\n",
    "import math\n",
    "import numpy as np\n",
    "import torch\n",
    "\n",
    "sys.path.append(os.path.join(os.getcwd(), '..'))\n",
    "\n",
    "from datasets import smsmotordata\n"
   ]
  },
  {
   "cell_type": "code",
   "execution_count": 2,
   "metadata": {},
   "outputs": [
    {
     "name": "stdout",
     "output_type": "stream",
     "text": [
      "\n",
      "Pickle file path: /data2/ml/SMSMotorData/processed/train_anomaly_label_False_ds_ratio_2_signal_dur_0.5_overlap_ratio_0.75_dc_removed_False_dbu_ind_True_ds_after_fft_False_norm_per_ch_False.pkl ...\n",
      "\n",
      "\n",
      "Generating dataset pickle files from the raw data files...\n",
      "\n",
      "Train dataset length: 20160\n",
      "\n",
      "\n",
      "Pickle file path: /data2/ml/SMSMotorData/processed/test_anomaly_label_False_ds_ratio_2_signal_dur_0.5_overlap_ratio_0.75_dc_removed_False_dbu_ind_True_ds_after_fft_False_norm_per_ch_False.pkl ...\n",
      "\n",
      "\n",
      "Generating dataset pickle files from the raw data files...\n",
      "\n",
      "Test dataset length: 5040\n",
      "\n"
     ]
    }
   ],
   "source": [
    "device = torch.device(\"cuda\" if torch.cuda.is_available() else \"cpu\")\n",
    "data_path = '/data2/ml/'\n",
    "\n",
    "class Args:\n",
    "    def __init__(self, act_mode_8bit):\n",
    "        self.act_mode_8bit = act_mode_8bit\n",
    "        self.truncate_testset = False\n",
    "\n",
    "args = Args(act_mode_8bit=False)\n",
    "\n",
    "is_file_idx_available = True\n",
    "\n",
    "# Call loader with _for_analysis suffix to retrieve file indexes\n",
    "train_set, test_set = smsmotordata.smsmotordata_dur_0_5_overlap_0_75_dbu_ind_get_datasets_for_train_for_analysis((data_path, args), load_train=True, load_test=True)\n"
   ]
  },
  {
   "cell_type": "code",
   "execution_count": 3,
   "metadata": {},
   "outputs": [
    {
     "name": "stdout",
     "output_type": "stream",
     "text": [
      "torch.Size([3, 512])\n",
      "(3, 512)\n",
      "74714\n"
     ]
    }
   ],
   "source": [
    "sample_idx = 62\n",
    "print(test_set[sample_idx][0].shape)\n",
    "print(test_set[sample_idx][1].shape)\n",
    "print(test_set[sample_idx][2])"
   ]
  },
  {
   "cell_type": "code",
   "execution_count": 4,
   "metadata": {},
   "outputs": [
    {
     "name": "stdout",
     "output_type": "stream",
     "text": [
      "<class 'torch.Tensor'>\n",
      "torch.Size([3, 512])\n",
      "<class 'numpy.ndarray'>\n",
      "(3, 512)\n",
      "[tensor(0.9922), tensor(0.9922)]\n",
      "<class 'int'>\n",
      "74714\n"
     ]
    }
   ],
   "source": [
    "sample_idx = 62\n",
    "sample_test_signal, sample_test_lbl, sample_test_file_id = test_set[sample_idx]\n",
    "\n",
    "print(type(sample_test_signal))\n",
    "print(sample_test_signal.shape)\n",
    "\n",
    "print(type(sample_test_lbl))\n",
    "print(sample_test_lbl.shape)\n",
    "\n",
    "print([sample_test_signal.min(), sample_test_signal.max()])\n",
    "\n",
    "print(type(sample_test_file_id))\n",
    "print(sample_test_file_id)"
   ]
  },
  {
   "cell_type": "code",
   "execution_count": 5,
   "metadata": {},
   "outputs": [
    {
     "name": "stdout",
     "output_type": "stream",
     "text": [
      "\n",
      "Pickle file path: /data2/ml/SMSMotorData/processed/train_anomaly_label_True_ds_ratio_2_signal_dur_0.5_overlap_ratio_0.75_dc_removed_False_dbu_ind_True_ds_after_fft_False_norm_per_ch_False.pkl ...\n",
      "\n",
      "\n",
      "Generating dataset pickle files from the raw data files...\n",
      "\n",
      "Train dataset length: 20160\n",
      "\n",
      "\n",
      "Pickle file path: /data2/ml/SMSMotorData/processed/test_anomaly_label_True_ds_ratio_2_signal_dur_0.5_overlap_ratio_0.75_dc_removed_False_dbu_ind_True_ds_after_fft_False_norm_per_ch_False.pkl ...\n",
      "\n",
      "\n",
      "Generating dataset pickle files from the raw data files...\n",
      "\n",
      "Test dataset length: 30240\n",
      "\n"
     ]
    }
   ],
   "source": [
    "args = Args(act_mode_8bit=True)\n",
    "\n",
    "train_set, test_set = smsmotordata.smsmotordata_dur_0_5_overlap_0_75_dbu_ind_get_datasets_for_eval_for_analysis((data_path, args), load_train=True, load_test=True)\n",
    "\n",
    "\n",
    "# Choose to have label 0\n",
    "selected_idx = 45\n",
    "sample_item = test_set[selected_idx]\n",
    "sample_input = sample_item[0].cpu().detach().numpy().astype(np.int64)\n",
    "sample_label = sample_item[1]"
   ]
  },
  {
   "cell_type": "code",
   "execution_count": 6,
   "metadata": {},
   "outputs": [
    {
     "data": {
      "text/plain": [
       "30240"
      ]
     },
     "execution_count": 6,
     "metadata": {},
     "output_type": "execute_result"
    }
   ],
   "source": [
    "len(test_set)"
   ]
  },
  {
   "cell_type": "code",
   "execution_count": 9,
   "metadata": {},
   "outputs": [
    {
     "name": "stdout",
     "output_type": "stream",
     "text": [
      "torch.Size([8, 3, 512])\n",
      "torch.float32\n",
      "[tensor(127.), tensor(127.)]\n",
      "torch.Size([8, 1])\n",
      "torch.int64\n",
      "[tensor(0), tensor(1)]\n",
      "torch.int64\n",
      "tensor([75555, 74755, 74549, 71823, 87064, 88103, 75185, 74601])\n"
     ]
    }
   ],
   "source": [
    "from torch.utils import data\n",
    "batch_size = 8\n",
    "test_dataloader = data.DataLoader(test_set, batch_size=batch_size, shuffle=True)\n",
    "\n",
    "for idx, (signal, label, file_idx) in enumerate(test_dataloader):\n",
    "    print(signal.shape)\n",
    "    print(signal.dtype)\n",
    "    print([signal.min(), signal.max()])\n",
    "\n",
    "    print(label.shape)\n",
    "    print(label.dtype)\n",
    "    print([label.min(), label.max()])\n",
    "\n",
    "    print(file_idx.dtype)\n",
    "    print(file_idx)\n",
    "    break\n"
   ]
  },
  {
   "cell_type": "code",
   "execution_count": 10,
   "metadata": {},
   "outputs": [
    {
     "name": "stdout",
     "output_type": "stream",
     "text": [
      "\n",
      "Pickle file path: /data2/ml/SMSMotorData/processed/train_anomaly_label_False_ds_ratio_2_signal_dur_0.5_overlap_ratio_0.75_dc_removed_False_dbu_ind_True_ds_after_fft_False_norm_per_ch_False.pkl ...\n",
      "\n",
      "\n",
      "Pickle files are already generated ...\n",
      "\n",
      "Train dataset length: 20160\n",
      "\n",
      "\n",
      "Pickle file path: /data2/ml/SMSMotorData/processed/test_anomaly_label_False_ds_ratio_2_signal_dur_0.5_overlap_ratio_0.75_dc_removed_False_dbu_ind_True_ds_after_fft_False_norm_per_ch_False.pkl ...\n",
      "\n",
      "\n",
      "Pickle files are already generated ...\n",
      "\n",
      "Test dataset length: 5040\n",
      "\n"
     ]
    }
   ],
   "source": [
    "train_set, test_set = smsmotordata.smsmotordata_dur_0_5_overlap_0_75_dbu_ind_get_datasets_for_train((data_path, args), load_train=True, load_test=True)"
   ]
  },
  {
   "cell_type": "code",
   "execution_count": 11,
   "metadata": {},
   "outputs": [
    {
     "name": "stdout",
     "output_type": "stream",
     "text": [
      "torch.Size([8, 3, 512])\n",
      "torch.float32\n",
      "[tensor(127.), tensor(127.)]\n",
      "torch.Size([8, 3, 512])\n",
      "torch.float32\n",
      "[tensor(127.), tensor(127.)]\n"
     ]
    }
   ],
   "source": [
    "from torch.utils import data\n",
    "batch_size = 8\n",
    "test_dataloader = data.DataLoader(test_set, batch_size=batch_size, shuffle=True)\n",
    "\n",
    "for idx, (signal, label) in enumerate(test_dataloader):\n",
    "    print(signal.shape)\n",
    "    print(signal.dtype)\n",
    "    print([signal.min(), signal.max()])\n",
    "\n",
    "    print(label.shape)\n",
    "    print(label.dtype)\n",
    "    print([label.min(), label.max()])\n",
    "\n",
    "    break"
   ]
  },
  {
   "cell_type": "code",
   "execution_count": null,
   "metadata": {},
   "outputs": [],
   "source": []
  }
 ],
 "metadata": {
  "kernelspec": {
   "display_name": "Python 3.8.11 ('venv': venv)",
   "language": "python",
   "name": "python3"
  },
  "language_info": {
   "codemirror_mode": {
    "name": "ipython",
    "version": 3
   },
   "file_extension": ".py",
   "mimetype": "text/x-python",
   "name": "python",
   "nbconvert_exporter": "python",
   "pygments_lexer": "ipython3",
   "version": "3.8.11"
  },
  "orig_nbformat": 4,
  "vscode": {
   "interpreter": {
    "hash": "beff3b3c01996754220f233aee867f0471e0bb15efc1abd863f2033f5db25c7b"
   }
  }
 },
 "nbformat": 4,
 "nbformat_minor": 2
}
